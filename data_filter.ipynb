{
 "cells": [
  {
   "cell_type": "code",
   "execution_count": 67,
   "metadata": {},
   "outputs": [],
   "source": [
    "import pandas as pd\n",
    "SIZE = 10**5\n",
    "file = \"~/downloads/new-york-city-taxi-fare-prediction/train.csv\""
   ]
  },
  {
   "cell_type": "code",
   "execution_count": 68,
   "metadata": {},
   "outputs": [],
   "source": [
    "def process(data):\n",
    "    data['pickup_datetime'] = pd.to_datetime(data['pickup_datetime'])\n",
    "    data_f = data[data['pickup_datetime'].dt.year == 2014]\n",
    "    return data_f"
   ]
  },
  {
   "cell_type": "code",
   "execution_count": null,
   "metadata": {},
   "outputs": [
    {
     "name": "stdout",
     "output_type": "stream",
     "text": [
      "Iteration:  0\n",
      "Iteration:  10\n"
     ]
    }
   ],
   "source": [
    "i = 0\n",
    "data = pd.DataFrame()\n",
    "for chunck in pd.read_csv(file, chunksize=SIZE):\n",
    "    if i % 10 == 0:\n",
    "        print(\"Iteration: \", i)\n",
    "    if len(data) == 0:\n",
    "        data = process(chunck)\n",
    "    elif len(data) > 0:\n",
    "        data = data.append(process(chunck))\n",
    "    i += 1 "
   ]
  },
  {
   "cell_type": "code",
   "execution_count": null,
   "metadata": {},
   "outputs": [],
   "source": []
  }
 ],
 "metadata": {
  "kernelspec": {
   "display_name": "Python 3",
   "language": "python",
   "name": "python3"
  },
  "language_info": {
   "codemirror_mode": {
    "name": "ipython",
    "version": 3
   },
   "file_extension": ".py",
   "mimetype": "text/x-python",
   "name": "python",
   "nbconvert_exporter": "python",
   "pygments_lexer": "ipython3",
   "version": "3.6.8"
  }
 },
 "nbformat": 4,
 "nbformat_minor": 2
}
