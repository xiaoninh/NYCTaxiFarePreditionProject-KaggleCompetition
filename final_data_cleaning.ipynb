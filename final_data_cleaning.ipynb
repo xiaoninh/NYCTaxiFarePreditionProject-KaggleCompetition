{
 "cells": [
  {
   "cell_type": "code",
   "execution_count": 1,
   "metadata": {},
   "outputs": [],
   "source": [
    "import pandas as pd\n",
    "import numpy as np"
   ]
  },
  {
   "cell_type": "code",
   "execution_count": 2,
   "metadata": {},
   "outputs": [],
   "source": [
    "data = pd.read_csv(\"2014_nyc_taxi_trips_with_features_d.csv\")"
   ]
  },
  {
   "cell_type": "code",
   "execution_count": 3,
   "metadata": {},
   "outputs": [],
   "source": [
    "data = data.dropna()"
   ]
  },
  {
   "cell_type": "code",
   "execution_count": 6,
   "metadata": {},
   "outputs": [
    {
     "data": {
      "text/plain": [
       "Index(['Unnamed: 0', 'Unnamed: 0.1', 'key', 'fare_amount', 'pickup_datetime',\n",
       "       'pickup_longitude', 'pickup_latitude', 'dropoff_longitude',\n",
       "       'dropoff_latitude', 'passenger_count', 'weekday', 'rush_hour',\n",
       "       'weekend', 'day_night', 'distance'],\n",
       "      dtype='object')"
      ]
     },
     "execution_count": 6,
     "metadata": {},
     "output_type": "execute_result"
    }
   ],
   "source": [
    "data.columns"
   ]
  },
  {
   "cell_type": "code",
   "execution_count": 7,
   "metadata": {},
   "outputs": [],
   "source": [
    "data_final = data[['key', 'fare_amount', 'pickup_datetime',\n",
    "       'pickup_longitude', 'pickup_latitude', 'dropoff_longitude',\n",
    "       'dropoff_latitude', 'passenger_count', 'weekday', 'rush_hour',\n",
    "       'weekend', 'day_night', 'distance']]"
   ]
  },
  {
   "cell_type": "code",
   "execution_count": 8,
   "metadata": {},
   "outputs": [
    {
     "data": {
      "text/html": [
       "<div>\n",
       "<style scoped>\n",
       "    .dataframe tbody tr th:only-of-type {\n",
       "        vertical-align: middle;\n",
       "    }\n",
       "\n",
       "    .dataframe tbody tr th {\n",
       "        vertical-align: top;\n",
       "    }\n",
       "\n",
       "    .dataframe thead th {\n",
       "        text-align: right;\n",
       "    }\n",
       "</style>\n",
       "<table border=\"1\" class=\"dataframe\">\n",
       "  <thead>\n",
       "    <tr style=\"text-align: right;\">\n",
       "      <th></th>\n",
       "      <th>key</th>\n",
       "      <th>fare_amount</th>\n",
       "      <th>pickup_datetime</th>\n",
       "      <th>pickup_longitude</th>\n",
       "      <th>pickup_latitude</th>\n",
       "      <th>dropoff_longitude</th>\n",
       "      <th>dropoff_latitude</th>\n",
       "      <th>passenger_count</th>\n",
       "      <th>weekday</th>\n",
       "      <th>rush_hour</th>\n",
       "      <th>weekend</th>\n",
       "      <th>day_night</th>\n",
       "      <th>distance</th>\n",
       "    </tr>\n",
       "  </thead>\n",
       "  <tbody>\n",
       "    <tr>\n",
       "      <th>0</th>\n",
       "      <td>2014-02-19 07:22:00.00000074</td>\n",
       "      <td>12.5</td>\n",
       "      <td>2014-02-19 07:22:00</td>\n",
       "      <td>-73.986430</td>\n",
       "      <td>40.760465</td>\n",
       "      <td>-73.988990</td>\n",
       "      <td>40.737075</td>\n",
       "      <td>1</td>\n",
       "      <td>2</td>\n",
       "      <td>1</td>\n",
       "      <td>0</td>\n",
       "      <td>1</td>\n",
       "      <td>1.619554</td>\n",
       "    </tr>\n",
       "    <tr>\n",
       "      <th>1</th>\n",
       "      <td>2014-12-06 20:36:22.0000008</td>\n",
       "      <td>4.0</td>\n",
       "      <td>2014-12-06 20:36:22</td>\n",
       "      <td>-73.979815</td>\n",
       "      <td>40.751902</td>\n",
       "      <td>-73.979446</td>\n",
       "      <td>40.755481</td>\n",
       "      <td>1</td>\n",
       "      <td>5</td>\n",
       "      <td>0</td>\n",
       "      <td>1</td>\n",
       "      <td>0</td>\n",
       "      <td>0.247719</td>\n",
       "    </tr>\n",
       "    <tr>\n",
       "      <th>2</th>\n",
       "      <td>2014-02-19 16:03:00.000000160</td>\n",
       "      <td>5.5</td>\n",
       "      <td>2014-02-19 16:03:00</td>\n",
       "      <td>-73.976075</td>\n",
       "      <td>40.752422</td>\n",
       "      <td>-73.981082</td>\n",
       "      <td>40.759285</td>\n",
       "      <td>1</td>\n",
       "      <td>2</td>\n",
       "      <td>1</td>\n",
       "      <td>0</td>\n",
       "      <td>1</td>\n",
       "      <td>0.541562</td>\n",
       "    </tr>\n",
       "    <tr>\n",
       "      <th>3</th>\n",
       "      <td>2014-07-16 10:57:00.00000069</td>\n",
       "      <td>5.0</td>\n",
       "      <td>2014-07-16 10:57:00</td>\n",
       "      <td>-73.996148</td>\n",
       "      <td>40.741890</td>\n",
       "      <td>-73.992202</td>\n",
       "      <td>40.739425</td>\n",
       "      <td>6</td>\n",
       "      <td>2</td>\n",
       "      <td>0</td>\n",
       "      <td>0</td>\n",
       "      <td>1</td>\n",
       "      <td>0.267995</td>\n",
       "    </tr>\n",
       "    <tr>\n",
       "      <th>4</th>\n",
       "      <td>2014-05-01 09:12:00.000000198</td>\n",
       "      <td>7.0</td>\n",
       "      <td>2014-05-01 09:12:00</td>\n",
       "      <td>-73.966203</td>\n",
       "      <td>40.767500</td>\n",
       "      <td>-73.980915</td>\n",
       "      <td>40.774240</td>\n",
       "      <td>6</td>\n",
       "      <td>3</td>\n",
       "      <td>1</td>\n",
       "      <td>0</td>\n",
       "      <td>1</td>\n",
       "      <td>0.901087</td>\n",
       "    </tr>\n",
       "  </tbody>\n",
       "</table>\n",
       "</div>"
      ],
      "text/plain": [
       "                             key  fare_amount      pickup_datetime  \\\n",
       "0   2014-02-19 07:22:00.00000074         12.5  2014-02-19 07:22:00   \n",
       "1    2014-12-06 20:36:22.0000008          4.0  2014-12-06 20:36:22   \n",
       "2  2014-02-19 16:03:00.000000160          5.5  2014-02-19 16:03:00   \n",
       "3   2014-07-16 10:57:00.00000069          5.0  2014-07-16 10:57:00   \n",
       "4  2014-05-01 09:12:00.000000198          7.0  2014-05-01 09:12:00   \n",
       "\n",
       "   pickup_longitude  pickup_latitude  dropoff_longitude  dropoff_latitude  \\\n",
       "0        -73.986430        40.760465         -73.988990         40.737075   \n",
       "1        -73.979815        40.751902         -73.979446         40.755481   \n",
       "2        -73.976075        40.752422         -73.981082         40.759285   \n",
       "3        -73.996148        40.741890         -73.992202         40.739425   \n",
       "4        -73.966203        40.767500         -73.980915         40.774240   \n",
       "\n",
       "   passenger_count  weekday  rush_hour  weekend  day_night  distance  \n",
       "0                1        2          1        0          1  1.619554  \n",
       "1                1        5          0        1          0  0.247719  \n",
       "2                1        2          1        0          1  0.541562  \n",
       "3                6        2          0        0          1  0.267995  \n",
       "4                6        3          1        0          1  0.901087  "
      ]
     },
     "execution_count": 8,
     "metadata": {},
     "output_type": "execute_result"
    }
   ],
   "source": [
    "data_final.head()"
   ]
  },
  {
   "cell_type": "code",
   "execution_count": null,
   "metadata": {},
   "outputs": [],
   "source": [
    "data_final.to_csv(\"2014_nyc_taxi_trips_with_features.csv\")"
   ]
  },
  {
   "cell_type": "code",
   "execution_count": null,
   "metadata": {},
   "outputs": [],
   "source": []
  }
 ],
 "metadata": {
  "kernelspec": {
   "display_name": "Python 3",
   "language": "python",
   "name": "python3"
  },
  "language_info": {
   "codemirror_mode": {
    "name": "ipython",
    "version": 3
   },
   "file_extension": ".py",
   "mimetype": "text/x-python",
   "name": "python",
   "nbconvert_exporter": "python",
   "pygments_lexer": "ipython3",
   "version": "3.6.8"
  }
 },
 "nbformat": 4,
 "nbformat_minor": 2
}
